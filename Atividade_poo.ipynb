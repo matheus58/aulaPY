{
  "metadata": {
    "kernelspec": {
      "name": "python",
      "display_name": "Python (Pyodide)",
      "language": "python"
    },
    "language_info": {
      "codemirror_mode": {
        "name": "python",
        "version": 3
      },
      "file_extension": ".py",
      "mimetype": "text/x-python",
      "name": "python",
      "nbconvert_exporter": "python",
      "pygments_lexer": "ipython3",
      "version": "3.8"
    }
  },
  "nbformat_minor": 4,
  "nbformat": 4,
  "cells": [
    {
      "cell_type": "code",
      "source": "class ContaBancaria:\n    _total_contas = 0\n    __slots__={'_numero_agencia','_tipo_conta','_saldo','_limite'}\n    def __init__(self ,numero_agencia, tipo_conta, saldo, limite):\n        self.numero_agencia = numero_agencia\n        self.tipo_conta =  tipo_conta\n        self.saldo = saldo\n        self.limite = limite\n        \n    def consultar_saldo(self):\n        return self.saldo\n        \n    def saca(self, valor):\n        self.saldo -= valor\n\n    def deposita(self, valor):\n        self.saldo += valor\n        \n    def transfere_para(self, destino, valor):\n        self.saldo -= valor\n        destino.saldo += valor\n    def obter_extrato(self)\n    def alterar_titular(self, novo_titular)  \n    def fechar_conta(self)\n    \n",
      "metadata": {
        "trusted": true
      },
      "outputs": [],
      "execution_count": 2
    },
    {
      "cell_type": "code",
      "source": "class Historico:\n    def __init__(self ,data_da_abertura , transacoes):\n        self.data_da_abertura = data_da_abertura\n        self.transacoes = transacoes\n        \n    def imprime(self):\n        print(\"\")\n        \n        ",
      "metadata": {
        "trusted": true
      },
      "outputs": [],
      "execution_count": 18
    },
    {
      "cell_type": "code",
      "source": "class Cliente:\n    def __init__(self,nome,sobrenome,cpf):\n        self.nome = nome\n        self.sobrenome = sobrenome\n        self.cpf = cpf\n    def dados_cliente(self):\n        print();",
      "metadata": {
        "trusted": true
      },
      "outputs": [],
      "execution_count": 20
    },
    {
      "cell_type": "code",
      "source": "conta_corente_matheus =  ContaBancaria(1,\"Corente\",1000,1000)\nconta_corente_pedro =  ContaBancaria(2,\"Corente\",1000,1000)\n\nconta_corente_pedro. transfere_para(conta_corente_matheus,300)\nprint(conta_corente_pedro.consultar_saldo())\nprint(conta_corente_matheus.consultar_saldo())",
      "metadata": {
        "trusted": true
      },
      "outputs": [
        {
          "name": "stdout",
          "text": "700\n1300\n",
          "output_type": "stream"
        }
      ],
      "execution_count": 13
    },
    {
      "cell_type": "code",
      "source": "consultar_saldo(self)",
      "metadata": {
        "trusted": true
      },
      "outputs": [],
      "execution_count": null
    }
  ]
}