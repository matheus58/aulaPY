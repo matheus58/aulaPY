{
  "metadata": {
    "kernelspec": {
      "name": "python",
      "display_name": "Python (Pyodide)",
      "language": "python"
    },
    "language_info": {
      "codemirror_mode": {
        "name": "python",
        "version": 3
      },
      "file_extension": ".py",
      "mimetype": "text/x-python",
      "name": "python",
      "nbconvert_exporter": "python",
      "pygments_lexer": "ipython3",
      "version": "3.8"
    }
  },
  "nbformat_minor": 4,
  "nbformat": 4,
  "cells": [
    {
      "cell_type": "code",
      "source": "class Conta:\n    def __init__ (self,numero,cliente,saldo,limite):\n        self.numero= numero\n        self.titular = cliente\n        self.saldo = saldo\n        self.limite = limite\n\n    def extrato (self):\n        return f\"Cliente{self.titular.get_nome()}\\nConta:{self.numero}\\nSaldo{self.saldo}\"\n",
      "metadata": {
        "trusted": true
      },
      "outputs": [],
      "execution_count": 27
    },
    {
      "cell_type": "code",
      "source": "class Cliente:\n    def __init__ (self,nome,sobrenome,cpf):\n        self.nome= nome\n        self.sobrenome = sobrenome\n        self.cpf = cpf\n\n    def get_nome(self):\n        return self.nome\n    ",
      "metadata": {
        "trusted": true
      },
      "outputs": [],
      "execution_count": 22
    },
    {
      "cell_type": "code",
      "source": "cliente1 = Cliente(\"Joao\", \"Silva\",\"1111\")\nconta1 = Conta(\"123-4\",cliente1,1000.00,400.00)\nprint(conta1.extrato())",
      "metadata": {
        "trusted": true
      },
      "outputs": [
        {
          "name": "stdout",
          "text": "ClienteJoao\nConta:123-4\nSaldo1000.0\n",
          "output_type": "stream"
        }
      ],
      "execution_count": 28
    },
    {
      "cell_type": "code",
      "source": "",
      "metadata": {
        "trusted": true
      },
      "outputs": [],
      "execution_count": null
    }
  ]
}